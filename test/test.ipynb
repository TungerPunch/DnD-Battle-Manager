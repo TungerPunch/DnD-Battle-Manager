{
 "cells": [
  {
   "cell_type": "code",
   "execution_count": 1,
   "metadata": {},
   "outputs": [
    {
     "name": "stdout",
     "output_type": "stream",
     "text": [
      "/Users/aydar/Desktop/AI TALENT HUB/DndBattleManager\n"
     ]
    },
    {
     "name": "stderr",
     "output_type": "stream",
     "text": [
      "/Users/aydar/Desktop/AI TALENT HUB/DndBattleManager/.venv/lib/python3.11/site-packages/IPython/core/magics/osm.py:417: UserWarning: This is now an optional IPython functionality, setting dhist requires you to install the `pickleshare` library.\n",
      "  self.shell.db['dhist'] = compress_dhist(dhist)[-100:]\n"
     ]
    }
   ],
   "source": [
    "%cd .."
   ]
  },
  {
   "cell_type": "code",
   "execution_count": 2,
   "metadata": {},
   "outputs": [
    {
     "data": {
      "text/plain": [
       "True"
      ]
     },
     "execution_count": 2,
     "metadata": {},
     "output_type": "execute_result"
    }
   ],
   "source": [
    "from dotenv import load_dotenv\n",
    "\n",
    "load_dotenv()"
   ]
  },
  {
   "cell_type": "code",
   "execution_count": 3,
   "metadata": {},
   "outputs": [],
   "source": [
    "import os"
   ]
  },
  {
   "cell_type": "code",
   "execution_count": 4,
   "metadata": {},
   "outputs": [],
   "source": [
    "from agent.model import ChatGPTAPI\n",
    "from agent.rag import retrieve_related_chunks\n",
    "import json"
   ]
  },
  {
   "cell_type": "markdown",
   "metadata": {},
   "source": [
    "#### Модель"
   ]
  },
  {
   "cell_type": "code",
   "execution_count": 5,
   "metadata": {},
   "outputs": [],
   "source": [
    "import json, pickle\n",
    "\n",
    "\n",
    "def get_help():\n",
    "    # Open and read the JSON file\n",
    "    with open('client/map.json', 'r') as file:\n",
    "        map_info = json.load(file)\n",
    "\n",
    "    # Создаем имя файла для кеша на основе промта\n",
    "    cache_dir = 'cache'\n",
    "    cache_file = f'cache/{hash(str(map_info))}.pkl'\n",
    "    \n",
    "    # Проверяем, существует ли кеш\n",
    "    if os.path.exists(cache_file):\n",
    "        with open(cache_file, 'rb') as f:\n",
    "            help = pickle.load(f)\n",
    "            print(\"Используем кешированный ответ.\")\n",
    "            return help\n",
    "    \n",
    "    map_desc_help = retrieve_related_chunks(map_info['map']['description'])\n",
    "    char_desc_help = []\n",
    "    for character in map_info['characters']:\n",
    "        char_desc_help.append(retrieve_related_chunks(character['description']))\n",
    "    help = ''\n",
    "    for res in map_desc_help['chunks']:\n",
    "        help += res['description']\n",
    "    for char in char_desc_help:\n",
    "        for res in char['chunks']:\n",
    "            help += res['description']\n",
    "    \n",
    "    # Сохраняем ответ в кеш\n",
    "    os.makedirs(cache_dir, exist_ok=True)\n",
    "    with open(cache_file, 'ab') as f:\n",
    "        pickle.dump('Дополнительная информация:\\n' + help, f)\n",
    "        print(\"Ответ сохранен в кеш.\")\n",
    "\n",
    "    return 'Дополнительная информация:\\n' + help"
   ]
  },
  {
   "cell_type": "code",
   "execution_count": 6,
   "metadata": {},
   "outputs": [],
   "source": [
    "model = ChatGPTAPI()"
   ]
  },
  {
   "cell_type": "code",
   "execution_count": 7,
   "metadata": {},
   "outputs": [
    {
     "name": "stdout",
     "output_type": "stream",
     "text": [
      "Ответ сохранен в кеш.\n"
     ]
    }
   ],
   "source": [
    "\n",
    "with open('client/map.json', 'r') as file:\n",
    "    map_info = json.load(file)\n",
    "dop_info = get_help()\n",
    "query = str(map_info) + \"\\n\\n\" + dop_info"
   ]
  },
  {
   "cell_type": "code",
   "execution_count": null,
   "metadata": {},
   "outputs": [],
   "source": []
  },
  {
   "cell_type": "code",
   "execution_count": 8,
   "metadata": {},
   "outputs": [
    {
     "name": "stdout",
     "output_type": "stream",
     "text": [
      "Ответ модели:\n",
      " Гоблин2, находящийся в центре сражения, осматривает поле боя и замечает Героя, который находится на расстоянии 3 клеток (примерно 15 футов) от него. Учитывая свою храбрость и желание сразиться с этим могучим волшебником, Гоблин2 решает атаковать.\n",
      "\n",
      "Гоблин2 использует свою палку (урон 1d4) и подходит на 1 клетку (координаты 2, 6) к Герою, чтобы находиться в пределах досягаемости для атаки. Теперь он совершает атаку.\n",
      "\n",
      "Для атаки Гоблин2 бросает кубик 1d20 и добавляет свой модификатор атаки (предположим, что это +4). Результат броска составляет 12, что в сумме дает 16. Это больше, чем класс доспеха Героя (10), поэтому атака успешна.\n",
      "\n",
      "Теперь Гоблин2 бросает кубик 1d4, чтобы определить урон. Результат броска составляет 3. Герой получает 3 урона и теперь его здоровье составляет 17 из 20.\n",
      "\n",
      "Гоблин2, довольный своим успехом, готовится к следующему ходу.\n"
     ]
    }
   ],
   "source": [
    "res = model.generate_action(query)\n",
    "print('Ответ модели:\\n', res)"
   ]
  },
  {
   "cell_type": "code",
   "execution_count": 13,
   "metadata": {},
   "outputs": [
    {
     "name": "stdout",
     "output_type": "stream",
     "text": [
      "{'map': {'grid_size': {'width': 20, 'height': 20}, 'environment': {'terrain': [{'type': 'гора', 'positions': [{'x': 5, 'y': 5}, {'x': 5, 'y': 6}, {'x': 5, 'y': 7}, {'x': 5, 'y': 8}, {'x': 5, 'y': 9}]}, {'type': 'река', 'positions': [{'x': 0, 'y': 10}, {'x': 1, 'y': 10}, {'x': 2, 'y': 10}, {'x': 3, 'y': 10}, {'x': 4, 'y': 10}, {'x': 5, 'y': 10}, {'x': 6, 'y': 10}, {'x': 7, 'y': 10}, {'x': 8, 'y': 10}, {'x': 9, 'y': 10}, {'x': 10, 'y': 10}]}], 'description': 'Поле битвы с рекой посередине карты и горами сверху'}, 'characters': [{'name': 'Герой', 'description': 'Могучий волшебник', 'position': {'x': 2, 'y': 2}, 'inventory': [{'item': 'Посох гадюки', 'damage': '1d8'}], 'spells': [{'spell': 'Огненный шар', 'damage': '26'}], 'stats': {'health': 17, 'max_health': 20, 'armor_class': 10, 'speed': 30}}, {'name': 'Гоблин1', 'description': 'Слабый трусливый гоблин', 'position': {'x': 1, 'y': 18}, 'inventory': [{'item': 'Меч', 'damage': '1d6'}], 'stats': {'health': 7, 'max_health': 7, 'armor_class': 13, 'speed': 30}}, {'name': 'Гоблин2', 'description': 'Злобный отважный гоблин, который не боится смерти', 'position': {'x': 1, 'y': 6}, 'inventory': [{'item': 'Палка', 'damage': '1d4'}], 'stats': {'health': 7, 'max_health': 7, 'armor_class': 13, 'speed': 30}}], 'current_turn': 'Гоблин1'}}\n"
     ]
    }
   ],
   "source": [
    "updated_map = model.update_map(map_info, action=res)\n",
    "print(updated_map)"
   ]
  },
  {
   "cell_type": "code",
   "execution_count": 9,
   "metadata": {},
   "outputs": [
    {
     "data": {
      "text/plain": [
       "{'map': {'grid_size': {'width': 20, 'height': 20},\n",
       "  'environment': {'terrain': [{'type': 'гора',\n",
       "     'positions': [{'x': 5, 'y': 5},\n",
       "      {'x': 5, 'y': 6},\n",
       "      {'x': 5, 'y': 7},\n",
       "      {'x': 5, 'y': 8},\n",
       "      {'x': 5, 'y': 9}]},\n",
       "    {'type': 'река',\n",
       "     'positions': [{'x': 0, 'y': 10},\n",
       "      {'x': 1, 'y': 10},\n",
       "      {'x': 2, 'y': 10},\n",
       "      {'x': 3, 'y': 10},\n",
       "      {'x': 4, 'y': 10},\n",
       "      {'x': 5, 'y': 10},\n",
       "      {'x': 6, 'y': 10},\n",
       "      {'x': 7, 'y': 10},\n",
       "      {'x': 8, 'y': 10},\n",
       "      {'x': 9, 'y': 10},\n",
       "      {'x': 10, 'y': 10}]}]},\n",
       "  'description': 'Поле битвы с рекой посередине карты и горами сверху'},\n",
       " 'characters': [{'name': 'Герой',\n",
       "   'description': 'Могучий волшебник',\n",
       "   'position': {'x': 2, 'y': 2},\n",
       "   'inventory': [{'item': 'Посох гадюки', 'damage': '1d8'}],\n",
       "   'spells': [{'spell': 'Огненный шар', 'damage': '26'}],\n",
       "   'stats': {'health': 20, 'max_health': 20, 'armor_class': 10, 'speed': 30}},\n",
       "  {'name': 'Гоблин1',\n",
       "   'description': 'Слабый трусливый гоблин',\n",
       "   'position': {'x': 1, 'y': 18},\n",
       "   'inventory': [{'item': 'Меч', 'damage': '1d6'}],\n",
       "   'stats': {'health': 7, 'max_health': 7, 'armor_class': 13, 'speed': 30}},\n",
       "  {'name': 'Гоблин2',\n",
       "   'description': 'Злобный отважный гоблин, который не боится смерти',\n",
       "   'position': {'x': 2, 'y': 5},\n",
       "   'inventory': [{'item': 'Палка', 'damage': '1d4'}],\n",
       "   'stats': {'health': 7, 'max_health': 7, 'armor_class': 13, 'speed': 30}}],\n",
       " 'current_turn': 'Гоблин2'}"
      ]
     },
     "execution_count": 9,
     "metadata": {},
     "output_type": "execute_result"
    }
   ],
   "source": [
    "map_info"
   ]
  },
  {
   "cell_type": "code",
   "execution_count": 15,
   "metadata": {},
   "outputs": [
    {
     "data": {
      "text/plain": [
       "{'map': {'grid_size': {'width': 20, 'height': 20},\n",
       "  'environment': {'terrain': [{'type': 'гора',\n",
       "     'positions': [{'x': 5, 'y': 5},\n",
       "      {'x': 5, 'y': 6},\n",
       "      {'x': 5, 'y': 7},\n",
       "      {'x': 5, 'y': 8},\n",
       "      {'x': 5, 'y': 9}]},\n",
       "    {'type': 'река',\n",
       "     'positions': [{'x': 0, 'y': 10},\n",
       "      {'x': 1, 'y': 10},\n",
       "      {'x': 2, 'y': 10},\n",
       "      {'x': 3, 'y': 10},\n",
       "      {'x': 4, 'y': 10},\n",
       "      {'x': 5, 'y': 10},\n",
       "      {'x': 6, 'y': 10},\n",
       "      {'x': 7, 'y': 10},\n",
       "      {'x': 8, 'y': 10},\n",
       "      {'x': 9, 'y': 10},\n",
       "      {'x': 10, 'y': 10}]}],\n",
       "   'description': 'Поле битвы с рекой посередине карты и горами сверху'},\n",
       "  'characters': [{'name': 'Герой',\n",
       "    'description': 'Могучий волшебник',\n",
       "    'position': {'x': 2, 'y': 2},\n",
       "    'inventory': [{'item': 'Посох гадюки', 'damage': '1d8'}],\n",
       "    'spells': [{'spell': 'Огненный шар', 'damage': '26'}],\n",
       "    'stats': {'health': 17, 'max_health': 20, 'armor_class': 10, 'speed': 30}},\n",
       "   {'name': 'Гоблин1',\n",
       "    'description': 'Слабый трусливый гоблин',\n",
       "    'position': {'x': 1, 'y': 18},\n",
       "    'inventory': [{'item': 'Меч', 'damage': '1d6'}],\n",
       "    'stats': {'health': 7, 'max_health': 7, 'armor_class': 13, 'speed': 30}},\n",
       "   {'name': 'Гоблин2',\n",
       "    'description': 'Злобный отважный гоблин, который не боится смерти',\n",
       "    'position': {'x': 1, 'y': 6},\n",
       "    'inventory': [{'item': 'Палка', 'damage': '1d4'}],\n",
       "    'stats': {'health': 7, 'max_health': 7, 'armor_class': 13, 'speed': 30}}],\n",
       "  'current_turn': 'Гоблин1'}}"
      ]
     },
     "execution_count": 15,
     "metadata": {},
     "output_type": "execute_result"
    }
   ],
   "source": [
    "updated_map"
   ]
  },
  {
   "cell_type": "markdown",
   "metadata": {},
   "source": [
    "#### Тест"
   ]
  },
  {
   "cell_type": "code",
   "execution_count": null,
   "metadata": {},
   "outputs": [],
   "source": []
  },
  {
   "cell_type": "code",
   "execution_count": 8,
   "metadata": {},
   "outputs": [],
   "source": [
    "with open('test.json', 'r') as file:\n",
    "    test_data_read = json.load(file)\n",
    "queries = test_data_read['queries']\n",
    "answers = test_data_read['answers']"
   ]
  },
  {
   "cell_type": "code",
   "execution_count": 9,
   "metadata": {},
   "outputs": [
    {
     "data": {
      "text/plain": [
       "(8, 8)"
      ]
     },
     "execution_count": 9,
     "metadata": {},
     "output_type": "execute_result"
    }
   ],
   "source": [
    "len(queries), len(answers)"
   ]
  },
  {
   "cell_type": "code",
   "execution_count": 10,
   "metadata": {},
   "outputs": [
    {
     "data": {
      "text/plain": [
       "[{'message': 'Гоблин2, находясь на позиции (2, 5), решает атаковать Героя, который находится на позиции (2, 2). Учитывая, что расстояние между ними составляет всего 3 клетки, Гоблин2 может легко добраться до Героя и совершить атаку.\\n\\nГоблин2 поднимает свою палку и с яростью бросается на врага. Он делает бросок атаки, добавляя свой модификатор ловкости. Бросок кубика на атаку показывает результат 14. С учетом модификатора ловкости (+2), итоговый результат атаки составляет 16.\\n\\nТеперь Гоблин2 бросает кубик на урон, используя 1d4, и получает 3 урона. Таким образом, Герой получает 3 урона от атаки Гоблина2. \\n\\nГоблин2 завершает свой ход, оставаясь на позиции (2, 5), с довольной ухмылкой на лице, полагая, что ему удалось хоть немного ослабить могущественного волшебника.',\n",
       "  'data': {'map': {'grid_size': {'width': 20, 'height': 20},\n",
       "    'environment': {'terrain': [{'type': 'гора',\n",
       "       'positions': [{'x': 5, 'y': 5},\n",
       "        {'x': 5, 'y': 6},\n",
       "        {'x': 5, 'y': 7},\n",
       "        {'x': 5, 'y': 8},\n",
       "        {'x': 5, 'y': 9}]},\n",
       "      {'type': 'река',\n",
       "       'positions': [{'x': 0, 'y': 10},\n",
       "        {'x': 1, 'y': 10},\n",
       "        {'x': 2, 'y': 10},\n",
       "        {'x': 3, 'y': 10},\n",
       "        {'x': 4, 'y': 10},\n",
       "        {'x': 5, 'y': 10},\n",
       "        {'x': 6, 'y': 10},\n",
       "        {'x': 7, 'y': 10},\n",
       "        {'x': 8, 'y': 10},\n",
       "        {'x': 9, 'y': 10},\n",
       "        {'x': 10, 'y': 10}]}],\n",
       "     'description': 'Поле битвы с рекой посередине карты и горами сверху'},\n",
       "    'characters': [{'name': 'Герой',\n",
       "      'description': 'Могучий волшебник',\n",
       "      'position': {'x': 2, 'y': 2},\n",
       "      'inventory': [{'item': 'Посох гадюки', 'damage': '1d8'}],\n",
       "      'spells': [{'spell': 'Огненный шар', 'damage': '26'}],\n",
       "      'stats': {'health': 17,\n",
       "       'max_health': 20,\n",
       "       'armor_class': 10,\n",
       "       'speed': 30}},\n",
       "     {'name': 'Гоблин1',\n",
       "      'description': 'Слабый трусливый гоблин',\n",
       "      'position': {'x': 1, 'y': 18},\n",
       "      'inventory': [{'item': 'Меч', 'damage': '1d6'}],\n",
       "      'stats': {'health': 7, 'max_health': 7, 'armor_class': 13, 'speed': 30}},\n",
       "     {'name': 'Гоблин2',\n",
       "      'description': 'Злобный отважный гоблин, который не боится смерти',\n",
       "      'position': {'x': 2, 'y': 5},\n",
       "      'inventory': [{'item': 'Палка', 'damage': '1d4'}],\n",
       "      'stats': {'health': 7,\n",
       "       'max_health': 7,\n",
       "       'armor_class': 13,\n",
       "       'speed': 30}}],\n",
       "    'current_turn': 'Гоблин1'}}},\n",
       " {'message': 'На данный момент ход принадлежит \"Могучему волшебнику\". Он находится на координатах (2, 2) и может использовать свои способности для атаки или поддержки союзников. \\n\\nВолшебник решает использовать заклинание \"Огненный шар\", чтобы нанести урон врагам, находящимся в пределах досягаемости. Он выбирает цель, которая находится в пределах 150 футов, и определяет, что наилучшим вариантом будет атаковать \"Гоблина2\", который находится на координатах (2, 5).\\n\\nВолшебник поднимает свой посох и произносит заклинание, создавая огромный шар огня, который летит в сторону гоблина. Он бросает кубики для определения урона. \\n\\nРезультат броска: 26 (максимальный урон от заклинания).\\n\\nВолшебник наносит 26 урона гоблину, который, вероятно, не сможет выдержать такой мощный удар, учитывая его здоровье в 7 хитов. \\n\\nПосле этого волшебник остается на месте, готовясь к следующему ходу.',\n",
       "  'data': {'map': {'grid_size': {'width': 20, 'height': 20},\n",
       "    'environment': {'terrain': [{'type': 'гора',\n",
       "       'positions': [{'x': 5, 'y': 5},\n",
       "        {'x': 5, 'y': 6},\n",
       "        {'x': 5, 'y': 7},\n",
       "        {'x': 5, 'y': 8},\n",
       "        {'x': 5, 'y': 9}]},\n",
       "      {'type': 'река',\n",
       "       'positions': [{'x': 0, 'y': 10},\n",
       "        {'x': 1, 'y': 10},\n",
       "        {'x': 2, 'y': 10},\n",
       "        {'x': 3, 'y': 10},\n",
       "        {'x': 4, 'y': 10},\n",
       "        {'x': 5, 'y': 10},\n",
       "        {'x': 6, 'y': 10},\n",
       "        {'x': 7, 'y': 10},\n",
       "        {'x': 8, 'y': 10},\n",
       "        {'x': 9, 'y': 10},\n",
       "        {'x': 10, 'y': 10}]}],\n",
       "     'description': 'Поле битвы с рекой посередине карты и горами сверху'},\n",
       "    'characters': [{'name': 'Герой',\n",
       "      'description': 'Могучий волшебник',\n",
       "      'position': {'x': 2, 'y': 2},\n",
       "      'inventory': [{'item': 'Посох гадюки', 'damage': '1d8'}],\n",
       "      'spells': [{'spell': 'Огненный шар', 'damage': '26'}],\n",
       "      'stats': {'health': 20,\n",
       "       'max_health': 20,\n",
       "       'armor_class': 10,\n",
       "       'speed': 30}},\n",
       "     {'name': 'Гоблин1',\n",
       "      'description': 'Слабый трусливый гоблин',\n",
       "      'position': {'x': 1, 'y': 18},\n",
       "      'inventory': [{'item': 'Меч', 'damage': '1d6'}],\n",
       "      'stats': {'health': 7, 'max_health': 7, 'armor_class': 13, 'speed': 30}},\n",
       "     {'name': 'Гоблин2',\n",
       "      'description': 'Злобный отважный гоблин, который не боится смерти',\n",
       "      'position': {'x': 2, 'y': 5},\n",
       "      'inventory': [{'item': 'Палка', 'damage': '1d4'}],\n",
       "      'stats': {'health': 0,\n",
       "       'max_health': 7,\n",
       "       'armor_class': 13,\n",
       "       'speed': 30}}],\n",
       "    'current_turn': 'Могучий волшебник'}}},\n",
       " {'message': 'Гоблин1, находящийся на позиции (1, 18), решает воспользоваться своей скоростью и перемещается на 30 футов к Герою, чтобы попытаться атаковать его. Он перемещается следующим образом:\\n\\n1. Перемещение на (1, 18) → (1, 17)\\n2. Перемещение на (1, 17) → (1, 16)\\n3. Перемещение на (1, 16) → (1, 15)\\n4. Перемещение на (1, 15) → (1, 14)\\n5. Перемещение на (1, 14) → (1, 13)\\n6. Перемещение на (1, 13) → (1, 12)\\n7. Перемещение на (1, 12) → (1, 11)\\n8. Перемещение на (1, 11) → (1, 10)\\n9. Перемещение на (1, 10) → (2, 10)\\n10. Перемещение на (2, 10) → (3, 10)\\n11. Перемещение на (3, 10) → (4, 10)\\n12. Перемещение на (4, 10) → (5, 10)\\n13. Перемещение на (5, 10) → (6, 10)\\n14. Перемещение на (6, 10) → (7, 10)\\n15. Перемещение на (7, 10) → (8, 10)\\n16. Перемещение на (8, 10) → (9, 10)\\n17. Перемещение на (9, 10) → (10, 10)\\n\\nТеперь гоблин находится на позиции (10, 10) и готов к атаке. Он использует свой меч, чтобы атаковать Героя. Бросок атаки составляет 1d20 + 2 (модификатор силы). Предположим, что результат броска равен 12, что в сумме дает 14. \\n\\nПоскольку класс доспеха Героя равен 10, атака попадает. Гоблин наносит 1d6 урона. Допустим, результат броска урона составляет 4. Герой получает 4 урона и теперь его здоровье составляет 16 из 20. \\n\\nТаким образом, Гоблин1 завершает свой ход, нанося удар Герою.',\n",
       "  'data': {'map': {'grid_size': {'width': 20, 'height': 20},\n",
       "    'environment': {'terrain': [{'type': 'гора',\n",
       "       'positions': [{'x': 5, 'y': 5},\n",
       "        {'x': 5, 'y': 6},\n",
       "        {'x': 5, 'y': 7},\n",
       "        {'x': 5, 'y': 8},\n",
       "        {'x': 5, 'y': 9}]},\n",
       "      {'type': 'река',\n",
       "       'positions': [{'x': 0, 'y': 10},\n",
       "        {'x': 1, 'y': 10},\n",
       "        {'x': 2, 'y': 10},\n",
       "        {'x': 3, 'y': 10},\n",
       "        {'x': 4, 'y': 10},\n",
       "        {'x': 5, 'y': 10},\n",
       "        {'x': 6, 'y': 10},\n",
       "        {'x': 7, 'y': 10},\n",
       "        {'x': 8, 'y': 10},\n",
       "        {'x': 9, 'y': 10},\n",
       "        {'x': 10, 'y': 10}]}],\n",
       "     'description': 'Поле битвы с рекой посередине карты и горами сверху'},\n",
       "    'characters': [{'name': 'Герой',\n",
       "      'description': 'Могучий волшебник',\n",
       "      'position': {'x': 2, 'y': 2},\n",
       "      'inventory': [{'item': 'Посох гадюки', 'damage': '1d8'}],\n",
       "      'spells': [{'spell': 'Огненный шар', 'damage': '26'}],\n",
       "      'stats': {'health': 16,\n",
       "       'max_health': 20,\n",
       "       'armor_class': 10,\n",
       "       'speed': 30}},\n",
       "     {'name': 'Гоблин1',\n",
       "      'description': 'Слабый трусливый гоблин',\n",
       "      'position': {'x': 10, 'y': 10},\n",
       "      'inventory': [{'item': 'Меч', 'damage': '1d6'}],\n",
       "      'stats': {'health': 7, 'max_health': 7, 'armor_class': 13, 'speed': 30}},\n",
       "     {'name': 'Гоблин2',\n",
       "      'description': 'Злобный отважный гоблин, который не боится смерти',\n",
       "      'position': {'x': 2, 'y': 5},\n",
       "      'inventory': [{'item': 'Палка', 'damage': '1d4'}],\n",
       "      'stats': {'health': 7,\n",
       "       'max_health': 7,\n",
       "       'armor_class': 13,\n",
       "       'speed': 30}}],\n",
       "    'current_turn': 'Гоблин2'}}},\n",
       " {'message': 'Гоблин2, злобный отважный гоблин, находящийся на позиции (2, 5), решает атаковать Героя, который находится на позиции (2, 2). Он понимает, что его шансы на успех высоки, и, используя свою скорость в 30 футов, он перемещается на 10 футов вниз по оси Y, достигая позиции (2, 4), а затем выполняет атаку с помощью своей палки.\\n\\nГоблин2 бросает кубик для атаки. Результат броска составляет 15 (включая модификатор атаки). Это превышает класс доспеха Героя (10), поэтому атака успешна. \\n\\nТеперь гоблин бросает кубик для урона, используя 1d4. Результат на кубике — 3. \\n\\nТаким образом, Гоблин2 наносит 3 урона Герою, который теперь имеет 1 - 3 = -2 здоровья и теряет сознание. \\n\\nГоблин2 с ухмылкой смотрит на поверженного противника, радуясь своей удаче в битве.',\n",
       "  'data': {'map': {'grid_size': {'width': 20, 'height': 20},\n",
       "    'environment': {'terrain': [{'type': 'гора',\n",
       "       'positions': [{'x': 5, 'y': 5},\n",
       "        {'x': 5, 'y': 6},\n",
       "        {'x': 5, 'y': 7},\n",
       "        {'x': 5, 'y': 8},\n",
       "        {'x': 5, 'y': 9}]},\n",
       "      {'type': 'река',\n",
       "       'positions': [{'x': 0, 'y': 10},\n",
       "        {'x': 1, 'y': 10},\n",
       "        {'x': 2, 'y': 10},\n",
       "        {'x': 3, 'y': 10},\n",
       "        {'x': 4, 'y': 10},\n",
       "        {'x': 5, 'y': 10},\n",
       "        {'x': 6, 'y': 10},\n",
       "        {'x': 7, 'y': 10},\n",
       "        {'x': 8, 'y': 10},\n",
       "        {'x': 9, 'y': 10},\n",
       "        {'x': 10, 'y': 10}]}],\n",
       "     'description': 'Поле битвы с рекой посередине карты и горами сверху'},\n",
       "    'characters': [{'name': 'Герой',\n",
       "      'description': 'Могучий волшебник',\n",
       "      'position': {'x': 2, 'y': 2},\n",
       "      'inventory': [{'item': 'Посох гадюки', 'damage': '1d8'}],\n",
       "      'spells': [{'spell': 'Огненный шар', 'damage': '26'}],\n",
       "      'stats': {'health': -2,\n",
       "       'max_health': 20,\n",
       "       'armor_class': 10,\n",
       "       'speed': 30}},\n",
       "     {'name': 'Гоблин1',\n",
       "      'description': 'Слабый трусливый гоблин',\n",
       "      'position': {'x': 1, 'y': 18},\n",
       "      'inventory': [{'item': 'Меч', 'damage': '1d6'}],\n",
       "      'stats': {'health': 7, 'max_health': 7, 'armor_class': 13, 'speed': 30}},\n",
       "     {'name': 'Гоблин2',\n",
       "      'description': 'Злобный отважный гоблин, который не боится смерти',\n",
       "      'position': {'x': 2, 'y': 4},\n",
       "      'inventory': [{'item': 'Палка', 'damage': '1d4'}],\n",
       "      'stats': {'health': 7,\n",
       "       'max_health': 7,\n",
       "       'armor_class': 13,\n",
       "       'speed': 30}}],\n",
       "    'current_turn': 'Гоблин1'}}},\n",
       " {'message': 'В данный момент ход принадлежит Могучему волшебнику. Он находится на позиции (2, 2) и может использовать свои возможности для атаки или поддержки союзников.\\n\\n**Действие волшебника:**\\n\\nМогучий волшебник решает использовать заклинание \"Огненный шар\", чтобы атаковать Гоблина2, который находится на позиции (2, 5). Он поднимает свой посох гадюки и произносит заклинание, вызывая мощный взрыв огня.\\n\\nДля определения успешности заклинания, волшебник бросает 1d20, добавляя свой модификатор Интеллекта. Предположим, что результат броска составил 14, а модификатор Интеллекта равен +3, что в сумме дает 17. \\n\\nГоблин2 должен сделать спасбросок на ловкость, чтобы избежать урона. Предположим, что у него результат спасброска составил 10. Учитывая, что спасбросок не удался, Гоблин2 получает полный урон от заклинания.\\n\\nУрон от \"Огненного шара\" составляет 26. Итак, Гоблин2 теряет 26 хитов, что значительно снижает его здоровье (он начинал с 30, теперь у него 4).\\n\\n**Результат действия:**\\n- Могучий волшебник использует \"Огненный шар\" на Гоблина2.\\n- Гоблин2 получает 26 урона и остается с 4 хитами. \\n\\nТеперь ход переходит к следующему персонажу.',\n",
       "  'data': {'map': {'grid_size': {'width': 20, 'height': 20},\n",
       "    'environment': {'terrain': [{'type': 'гора',\n",
       "       'positions': [{'x': 5, 'y': 5},\n",
       "        {'x': 5, 'y': 6},\n",
       "        {'x': 5, 'y': 7},\n",
       "        {'x': 5, 'y': 8},\n",
       "        {'x': 5, 'y': 9}]},\n",
       "      {'type': 'река',\n",
       "       'positions': [{'x': 0, 'y': 10},\n",
       "        {'x': 1, 'y': 10},\n",
       "        {'x': 2, 'y': 10},\n",
       "        {'x': 3, 'y': 10},\n",
       "        {'x': 4, 'y': 10},\n",
       "        {'x': 5, 'y': 10},\n",
       "        {'x': 6, 'y': 10},\n",
       "        {'x': 7, 'y': 10},\n",
       "        {'x': 8, 'y': 10},\n",
       "        {'x': 9, 'y': 10},\n",
       "        {'x': 10, 'y': 10}]}],\n",
       "     'description': 'Поле битвы с рекой посередине карты и горами сверху'},\n",
       "    'characters': [{'name': 'Герой',\n",
       "      'description': 'Могучий волшебник',\n",
       "      'position': {'x': 2, 'y': 2},\n",
       "      'inventory': [{'item': 'Посох гадюки', 'damage': '1d8'}],\n",
       "      'spells': [{'spell': 'Огненный шар', 'damage': '26'}],\n",
       "      'stats': {'health': 20,\n",
       "       'max_health': 20,\n",
       "       'armor_class': 10,\n",
       "       'speed': 30}},\n",
       "     {'name': 'Гоблин1',\n",
       "      'description': 'Слабый трусливый гоблин',\n",
       "      'position': {'x': 1, 'y': 18},\n",
       "      'inventory': [{'item': 'Меч', 'damage': '1d6'}],\n",
       "      'stats': {'health': 7, 'max_health': 7, 'armor_class': 13, 'speed': 30}},\n",
       "     {'name': 'Гоблин2',\n",
       "      'description': 'Злобный отважный гоблин, который не боится смерти',\n",
       "      'position': {'x': 2, 'y': 5},\n",
       "      'inventory': [{'item': 'Палка', 'damage': '1d4'}],\n",
       "      'stats': {'health': 4,\n",
       "       'max_health': 30,\n",
       "       'armor_class': 15,\n",
       "       'speed': 30}}],\n",
       "    'current_turn': 'Гоблин1'}}},\n",
       " {'message': 'Гоблин1, находясь на позиции (1, 1), осматривает поле боя и замечает, что его союзник Гоблин2 находится на (2, 5), что дает ему возможность использовать свою способность \"Боевые приказы\", чтобы помочь своему товарищу. Он решает воспользоваться этой возможностью и отдает команду Гоблину2.\\n\\n**Действие:**\\nГоблин1 использует свою способность \"Боевые приказы\", чтобы приказать Гоблину2 переместиться на половину его скорости и совершить атаку. Гоблин2, находясь на позиции (2, 5), перемещается на (2, 4), чтобы приблизиться к Герою, который находится на (2, 2).\\n\\n**Результат:**\\nГоблин2 совершает атаку с помощью своей палки. Бросок на атаку: 1d20 + 2 (модификатор ловкости). Результат броска: 12. \\n\\nТеперь Гоблин2 бросает кубик для урона: 1d4 + 2 (модификатор силы). Результат броска: 3. \\n\\nТаким образом, Гоблин2 наносит 3 урона Герою, который теперь имеет 17 хитов.',\n",
       "  'data': {'map': {'grid_size': {'width': 20, 'height': 20},\n",
       "    'environment': {'terrain': [{'type': 'гора',\n",
       "       'positions': [{'x': 5, 'y': 5},\n",
       "        {'x': 5, 'y': 6},\n",
       "        {'x': 5, 'y': 7},\n",
       "        {'x': 5, 'y': 8},\n",
       "        {'x': 5, 'y': 9}]},\n",
       "      {'type': 'река',\n",
       "       'positions': [{'x': 0, 'y': 10},\n",
       "        {'x': 1, 'y': 10},\n",
       "        {'x': 2, 'y': 10},\n",
       "        {'x': 3, 'y': 10},\n",
       "        {'x': 4, 'y': 10},\n",
       "        {'x': 5, 'y': 10},\n",
       "        {'x': 6, 'y': 10},\n",
       "        {'x': 7, 'y': 10},\n",
       "        {'x': 8, 'y': 10},\n",
       "        {'x': 9, 'y': 10},\n",
       "        {'x': 10, 'y': 10}]}],\n",
       "     'description': 'Поле битвы с рекой посередине карты и горами сверху'},\n",
       "    'characters': [{'name': 'Герой',\n",
       "      'description': 'Могучий волшебник',\n",
       "      'position': {'x': 2, 'y': 2},\n",
       "      'inventory': [{'item': 'Посох гадюки', 'damage': '1d8'}],\n",
       "      'spells': [{'spell': 'Огненный шар', 'damage': '26'}],\n",
       "      'stats': {'health': 17,\n",
       "       'max_health': 20,\n",
       "       'armor_class': 10,\n",
       "       'speed': 30}},\n",
       "     {'name': 'Гоблин1',\n",
       "      'description': 'Слабый трусливый гоблин',\n",
       "      'position': {'x': 1, 'y': 1},\n",
       "      'inventory': [{'item': 'Меч', 'damage': '1d6'}],\n",
       "      'stats': {'health': 7, 'max_health': 7, 'armor_class': 13, 'speed': 30}},\n",
       "     {'name': 'Гоблин2',\n",
       "      'description': 'Злобный отважный гоблин, который не боится смерти',\n",
       "      'position': {'x': 2, 'y': 4},\n",
       "      'inventory': [{'item': 'Палка', 'damage': '1d4'}],\n",
       "      'stats': {'health': 30,\n",
       "       'max_health': 30,\n",
       "       'armor_class': 15,\n",
       "       'speed': 30}}],\n",
       "    'current_turn': 'Гоблин1'}}},\n",
       " {'message': 'Гоблин2, находящийся на позиции (2, 5), решает использовать свои командирские способности и приказывает Гоблину1, находящемуся на позиции (1, 18), переместиться к Герою и атаковать его.\\n\\nГоблин2 произносит короткую команду: \"Иди, нападай!\" и Гоблин1, получивший приказ, использует свою реакцию, чтобы переместиться на 15 футов (5 клеток) к позиции (2, 17).\\n\\nТеперь Гоблин1 находится на позиции (2, 17) и может атаковать Героя, который находится на позиции (2, 2).\\n\\nГоблин1 использует свой меч для атаки. Бросок атаки: 1d20 + 2 (модификатор атаки). Предположим, что результат броска составил 12, что в сумме с модификатором дает 14. Это превышает класс брони Героя, который равен 10.\\n\\nТеперь Гоблин1 бросает кубик для урона: 1d6. Предположим, что результат броска составил 4. Таким образом, Герой получает 4 урона.\\n\\nГоблин1 завершает свой ход, и теперь очередь снова за Героем.',\n",
       "  'data': {'map': {'grid_size': {'width': 20, 'height': 20},\n",
       "    'environment': {'terrain': [{'type': 'гора',\n",
       "       'positions': [{'x': 5, 'y': 5},\n",
       "        {'x': 5, 'y': 6},\n",
       "        {'x': 5, 'y': 7},\n",
       "        {'x': 5, 'y': 8},\n",
       "        {'x': 5, 'y': 9}]},\n",
       "      {'type': 'река',\n",
       "       'positions': [{'x': 0, 'y': 10},\n",
       "        {'x': 1, 'y': 10},\n",
       "        {'x': 2, 'y': 10},\n",
       "        {'x': 3, 'y': 10},\n",
       "        {'x': 4, 'y': 10},\n",
       "        {'x': 5, 'y': 10},\n",
       "        {'x': 6, 'y': 10},\n",
       "        {'x': 7, 'y': 10},\n",
       "        {'x': 8, 'y': 10},\n",
       "        {'x': 9, 'y': 10},\n",
       "        {'x': 10, 'y': 10}]}],\n",
       "     'description': 'Поле битвы с рекой посередине карты и горами сверху'},\n",
       "    'characters': [{'name': 'Герой',\n",
       "      'description': 'Могучий волшебник',\n",
       "      'position': {'x': 2, 'y': 2},\n",
       "      'inventory': [{'item': 'Посох гадюки', 'damage': '1d8'}],\n",
       "      'spells': [{'spell': 'Огненный шар', 'damage': '26'}],\n",
       "      'stats': {'health': 1,\n",
       "       'max_health': 20,\n",
       "       'armor_class': 10,\n",
       "       'speed': 30}},\n",
       "     {'name': 'Гоблин1',\n",
       "      'description': 'Слабый трусливый гоблин',\n",
       "      'position': {'x': 2, 'y': 17},\n",
       "      'inventory': [{'item': 'Меч', 'damage': '1d6'}],\n",
       "      'stats': {'health': 7, 'max_health': 7, 'armor_class': 13, 'speed': 30}},\n",
       "     {'name': 'Гоблин2',\n",
       "      'description': 'Злобный отважный гоблин, который не боится смерти',\n",
       "      'position': {'x': 2, 'y': 5},\n",
       "      'inventory': [{'item': 'Посох гадюки', 'damage': '1d8'}],\n",
       "      'stats': {'health': 7,\n",
       "       'max_health': 7,\n",
       "       'armor_class': 13,\n",
       "       'speed': 30}}],\n",
       "    'current_turn': 'Герой'}}},\n",
       " {'message': 'В данный момент ход Гоблина2. Он находится на позиции (2, 18) и видит Героя на (2, 2), между ними находится река, которая простирается от (0, 10) до (10, 10). Гоблин2, будучи злобным и отважным, решает атаковать Героя с помощью своего посоха гадюки.\\n\\nГоблин2 использует действие «Атака» и бросает кубик для атаки. Бросок кубика на атаку показывает результат 14. Учитывая, что класс доспеха Героя равен 10, атака успешна.\\n\\nТеперь Гоблин2 бросает кубик для урона, используя свой посох гадюки, который наносит 1d8 урона. Бросок на урон показывает 5. Таким образом, Герой получает 5 урона.\\n\\n**Действие Гоблина2:**\\nГоблин2 поднимает свой посох гадюки и с яростью наносит удар по Герою, который находится на расстоянии 16 клеток от него. Удар проходит, и Герой получает 5 урона, что снижает его здоровье до 0.',\n",
       "  'data': {'map': {'grid_size': {'width': 20, 'height': 20},\n",
       "    'environment': {'terrain': [{'type': 'гора',\n",
       "       'positions': [{'x': 5, 'y': 5},\n",
       "        {'x': 5, 'y': 6},\n",
       "        {'x': 5, 'y': 7},\n",
       "        {'x': 5, 'y': 8},\n",
       "        {'x': 5, 'y': 9}]},\n",
       "      {'type': 'река',\n",
       "       'positions': [{'x': 0, 'y': 10},\n",
       "        {'x': 1, 'y': 10},\n",
       "        {'x': 2, 'y': 10},\n",
       "        {'x': 3, 'y': 10},\n",
       "        {'x': 4, 'y': 10},\n",
       "        {'x': 5, 'y': 10},\n",
       "        {'x': 6, 'y': 10},\n",
       "        {'x': 7, 'y': 10},\n",
       "        {'x': 8, 'y': 10},\n",
       "        {'x': 9, 'y': 10},\n",
       "        {'x': 10, 'y': 10}]}],\n",
       "     'description': 'Поле битвы с рекой посередине карты и горами сверху'},\n",
       "    'characters': [{'name': 'Герой',\n",
       "      'description': 'Могучий волшебник',\n",
       "      'position': {'x': 2, 'y': 2},\n",
       "      'inventory': [{'item': 'Посох гадюки', 'damage': '1d8'}],\n",
       "      'spells': [{'spell': 'Огненный шар', 'damage': '26'}],\n",
       "      'stats': {'health': 0,\n",
       "       'max_health': 20,\n",
       "       'armor_class': 10,\n",
       "       'speed': 30}},\n",
       "     {'name': 'Гоблин1',\n",
       "      'description': 'Слабый трусливый гоблин',\n",
       "      'position': {'x': 1, 'y': 18},\n",
       "      'inventory': [{'item': 'Меч', 'damage': '1d6'}],\n",
       "      'stats': {'health': 7, 'max_health': 7, 'armor_class': 13, 'speed': 30}},\n",
       "     {'name': 'Гоблин2',\n",
       "      'description': 'Злобный отважный гоблин, который не боится смерти',\n",
       "      'position': {'x': 2, 'y': 18},\n",
       "      'inventory': [{'item': 'Посох гадюки', 'damage': '1d8'}],\n",
       "      'stats': {'health': 7,\n",
       "       'max_health': 7,\n",
       "       'armor_class': 13,\n",
       "       'speed': 30}}],\n",
       "    'current_turn': 'Гоблин1'}}}]"
      ]
     },
     "execution_count": 10,
     "metadata": {},
     "output_type": "execute_result"
    }
   ],
   "source": [
    "answers"
   ]
  },
  {
   "cell_type": "code",
   "execution_count": 11,
   "metadata": {},
   "outputs": [],
   "source": [
    "from agent.process import process_map"
   ]
  },
  {
   "cell_type": "code",
   "execution_count": 12,
   "metadata": {},
   "outputs": [],
   "source": [
    "#results = []\n",
    "#for q in queries:\n",
    "#    result = process_map(q)\n",
    "#    results.append(result)"
   ]
  },
  {
   "cell_type": "code",
   "execution_count": 13,
   "metadata": {},
   "outputs": [],
   "source": [
    "#test = {'queries': queries,\n",
    "#        'answers': results}\n",
    "#with open(\"test.json\", \"w\") as fp:\n",
    "#    json.dump(test , fp, ensure_ascii=False)"
   ]
  },
  {
   "cell_type": "code",
   "execution_count": 14,
   "metadata": {},
   "outputs": [
    {
     "name": "stdout",
     "output_type": "stream",
     "text": [
      "Conflict for /datasets. HTTPError('409 Client Error: Conflict for url: https://api.smith.langchain.com/datasets', '{\"detail\":\"Dataset with this name already exists.\"}')\n"
     ]
    }
   ],
   "source": [
    "from langsmith import Client\n",
    "\n",
    "client = Client()\n",
    "\n",
    "# Create a dataset\n",
    "examples = list(zip(queries, answers))\n",
    "\n",
    "dataset_name = \"Agent RAG DnD\"\n",
    "try:\n",
    "    dataset = client.create_dataset(dataset_name=dataset_name)\n",
    "    inputs, outputs = zip(\n",
    "        *[({\"question\": text}, {\"ground_truth\": label}) for text, label in examples]\n",
    "    )\n",
    "\n",
    "    client.create_examples(inputs=inputs, outputs=outputs, dataset_id=dataset.id)\n",
    "except Exception as e:\n",
    "    print(e)"
   ]
  },
  {
   "cell_type": "code",
   "execution_count": 15,
   "metadata": {},
   "outputs": [],
   "source": [
    "from langsmith.schemas import Example, Run"
   ]
  },
  {
   "cell_type": "code",
   "execution_count": 16,
   "metadata": {},
   "outputs": [],
   "source": [
    "from langchain import hub\n",
    "from langchain_openai import ChatOpenAI\n",
    "\n",
    "# Grade prompt\n",
    "grade_prompt_answer_helpfulness = prompt = hub.pull(\"langchain-ai/rag-answer-helpfulness\")\n",
    "\n",
    "def answer_helpfulness_evaluator(run, example) -> dict:\n",
    "    \"\"\"\n",
    "    A simple evaluator for RAG answer helpfulness\n",
    "    \"\"\"\n",
    "\n",
    "    # Get question, ground truth answer, RAG chain answer\n",
    "    input_question = example.inputs[\"question\"]\n",
    "    prediction = run.outputs[\"answer\"]\n",
    "\n",
    "    # LLM grader\n",
    "    llm = ChatGPTAPI()\n",
    "\n",
    "    # Structured prompt\n",
    "    answer_grader = grade_prompt_answer_helpfulness | llm\n",
    "\n",
    "    # Run evaluator\n",
    "    score = answer_grader.invoke({\"question\": input_question,\n",
    "                                  \"student_answer\": prediction})\n",
    "    score = score[\"Score\"]\n",
    "\n",
    "    return {\"key\": \"answer_helpfulness_score\", \"score\": score}"
   ]
  },
  {
   "cell_type": "code",
   "execution_count": 17,
   "metadata": {},
   "outputs": [],
   "source": [
    "def predict_rag_answer(example: dict):\n",
    "    \"\"\"Use this for answer evaluation\"\"\"\n",
    "    response = process_map(example[\"question\"])\n",
    "    return {\"answer\": response}\n",
    "\n",
    "def predict_rag_answer_with_context(example: dict):\n",
    "    \"\"\"Use this for evaluation of retrieved documents and hallucinations\"\"\"\n",
    "    response = model.call_api(example[\"question\"])\n",
    "    return {\"answer\": response[\"answer\"], \"contexts\": response[\"contexts\"]}"
   ]
  },
  {
   "cell_type": "code",
   "execution_count": null,
   "metadata": {},
   "outputs": [
    {
     "name": "stderr",
     "output_type": "stream",
     "text": [
      "/Users/aydar/Desktop/AI TALENT HUB/DndBattleManager/.venv/lib/python3.11/site-packages/tqdm/auto.py:21: TqdmWarning: IProgress not found. Please update jupyter and ipywidgets. See https://ipywidgets.readthedocs.io/en/stable/user_install.html\n",
      "  from .autonotebook import tqdm as notebook_tqdm\n"
     ]
    },
    {
     "name": "stdout",
     "output_type": "stream",
     "text": [
      "View the evaluation results for experiment: 'rag-answer-v-reference-2e91812e' at:\n",
      "https://smith.langchain.com/o/ed3ec4a9-24f8-4d1d-ae53-4f7e47fe1b80/datasets/8cbb846d-76bf-4b12-8a21-50ef1761340f/compare?selectedSessions=6ea9ea5c-7a04-48c3-b788-28183c6bd1f9\n",
      "\n",
      "\n"
     ]
    },
    {
     "name": "stderr",
     "output_type": "stream",
     "text": [
      "0it [00:00, ?it/s]"
     ]
    }
   ],
   "source": [
    "from langsmith.evaluation import evaluate\n",
    "\n",
    "experiment_results = evaluate(\n",
    "    predict_rag_answer,\n",
    "    data=dataset_name,\n",
    "    evaluators=[answer_helpfulness_evaluator],\n",
    "    experiment_prefix=\"rag-answer-v-reference\",\n",
    ")"
   ]
  },
  {
   "cell_type": "code",
   "execution_count": null,
   "metadata": {},
   "outputs": [],
   "source": []
  }
 ],
 "metadata": {
  "kernelspec": {
   "display_name": ".venv",
   "language": "python",
   "name": "python3"
  },
  "language_info": {
   "codemirror_mode": {
    "name": "ipython",
    "version": 3
   },
   "file_extension": ".py",
   "mimetype": "text/x-python",
   "name": "python",
   "nbconvert_exporter": "python",
   "pygments_lexer": "ipython3",
   "version": "3.11.0"
  }
 },
 "nbformat": 4,
 "nbformat_minor": 2
}
